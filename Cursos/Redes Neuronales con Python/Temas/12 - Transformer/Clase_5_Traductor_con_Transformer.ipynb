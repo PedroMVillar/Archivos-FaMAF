{
  "cells": [
    {
      "cell_type": "markdown",
      "metadata": {
        "id": "bvrNWj-x_u4E"
      },
      "source": [
        "# Traducción de inglés a español con un Transformer de secuencia a secuencia\n",
        "## English-to-Spanish translation with a sequence-to-sequence Transformer\n",
        "\n",
        "**Author:** [fchollet](https://twitter.com/fchollet)<br>\n",
        "**Date created:** 2021/05/26<br>\n",
        "**Last modified:** 2023/02/25<br>\n",
        "**Description:** Implementing a sequence-to-sequence Transformer and training it on a machine translation task.\n",
        "\n",
        "**Revised and updated by:** Edgardo Bonzi   \n",
        "**Updated on:** 2023/11/25"
      ]
    },
    {
      "cell_type": "markdown",
      "source": [
        "## Introducción\n",
        "\n",
        "En este ejemplo, construiremos un modelo Transformer de secuencia a secuencia, que entrenaremos en una tarea de traducción automática del inglés al español.\n",
        "\n",
        "Aprenderás cómo:\n",
        "\n",
        "- Vectorizar el texto usando la capa Keras TextVectorization.\n",
        "- Implementar una capa TransformerEncoder, una capa TransformerDecoder y una capa PositionalEmbedding.\n",
        "- Preparar datos para entrenar un modelo secuencia a secuencia.\n",
        "- Utilizar el modelo entrenado para generar traducciones de oraciones de entrada nunca antes vistas (inferencia secuencia a secuencia).\n",
        "\n",
        "El código que se presenta aquí está adaptado del libro [Deep Learning with Python, Second Edition](https://www.manning.com/books/deep-learning-with-python-second-edition)\n",
        "(chapter 11: Deep learning for text).  \n",
        "El presente ejemplo es bastante básico, por lo que para obtener explicaciones detalladas de cómo funciona cada componente, así como la teoría detrás de Transformers, se recomienda leer el libro."
      ],
      "metadata": {
        "id": "vUVsuCzSLOXN"
      }
    },
    {
      "cell_type": "markdown",
      "metadata": {
        "id": "vuYqekSX_u4J"
      },
      "source": [
        "## Setup"
      ]
    },
    {
      "cell_type": "code",
      "execution_count": 1,
      "metadata": {
        "id": "zVxjg0c2_u4K"
      },
      "outputs": [],
      "source": [
        "\"\"\"\n",
        "Estas sentencias se utilizan para configurar la variable de entorno \"KERAS_BACKEND\"\n",
        "en el entorno de ejecución de Python.\n",
        "---------------------------------------------------------------------------------\n",
        "Esta línea importa el módulo os, que permite interactuar con el sistema operativo\n",
        "utilizando Python.\n",
        "\"\"\"\n",
        "import os\n",
        "\"\"\"\n",
        "---------------------------------------------------------------------------------\n",
        "Esta línea establece una variable de entorno llamada \"KERAS_BACKEND\" y la configura\n",
        "con el valor \"tensorflow\".\n",
        "\"\"\"\n",
        "os.environ[\"KERAS_BACKEND\"] = \"tensorflow\"\n",
        "\"\"\"\n",
        "---------------------------------------------------------------------------------\n",
        "En el contexto de Keras, el parámetro \"KERAS_BACKEND\" se utiliza para especificar\n",
        "qué backend se debe utilizar para las operaciones de Keras. Keras es una biblioteca\n",
        "de alto nivel para la creación de redes neuronales, y puede funcionar con varios\n",
        "backends, como TensorFlow, Theano o CNTK.\n",
        "\n",
        "En este caso particular, se configura \"tensorflow\" como el backend de Keras.\n",
        "Esto significa que las operaciones de Keras se ejecutarán utilizando TensorFlow\n",
        "como motor subyacente para realizar los cálculos.\n",
        "\n",
        "Esto es útil cuando se quiere asegurar que Keras utilice específicamente TensorFlow\n",
        "como su backend para las operaciones de aprendizaje profundo en lugar de otros\n",
        "motores o backends disponibles.\n",
        "\"\"\"\n",
        "## import os\n",
        "## os.environ[\"KERAS_BACKEND\"] = \"tensorflow\"\n",
        "\n",
        "import pathlib\n",
        "import random\n",
        "import string\n",
        "import re\n",
        "import numpy as np"
      ]
    },
    {
      "cell_type": "markdown",
      "source": [
        "### Librerías de Python utilizadas\n",
        "\n",
        "1. **`pathlib`:** Esta librería proporciona clases para interactuar con rutas de sistema de archivos de una manera más orientada a objetos. Permite manipular rutas de manera más eficiente y consistente. Algunas de las operaciones comunes incluyen la navegación entre directorios, la comprobación de la existencia de archivos o directorios, la obtención de información sobre rutas y nombres de archivo, entre otras. Es parte de la biblioteca estándar de Python y es útil para trabajar con rutas de archivos y directorios.\n",
        "\n",
        "2. **`random`:** La librería `random` proporciona funciones para trabajar con números aleatorios. Puede generar números aleatorios enteros, de punto flotante, mezclar secuencias, elegir elementos aleatorios de una secuencia y más. Es útil para tareas que requieren aleatoriedad, como la selección aleatoria, la generación de datos de prueba o la mezcla de elementos.\n",
        "\n",
        "3. **`string`:** La librería `string` proporciona constantes y funciones útiles para trabajar con cadenas de texto. Contiene constantes predefinidas para letras mayúsculas y minúsculas, dígitos, puntuación y otros grupos de caracteres. También ofrece funciones para formatear, manipular y trabajar con cadenas de texto, como la conversión entre mayúsculas y minúsculas, la eliminación de espacios en blanco, entre otros.\n",
        "\n",
        "4. **`re`:** La librería `re` proporciona operaciones de expresiones regulares en Python. Permite trabajar con patrones de texto para buscar, extraer y manipular cadenas de texto basadas en reglas específicas definidas por expresiones regulares. Ofrece funciones como `search`, `match`, `findall`, `sub`, entre otras, para realizar operaciones avanzadas de búsqueda y manipulación de cadenas basadas en patrones específicos. Las expresiones regulares son muy potentes y útiles para realizar operaciones complejas de coincidencia y manipulación de texto."
      ],
      "metadata": {
        "id": "nRvWfHkucFAQ"
      }
    },
    {
      "cell_type": "code",
      "source": [
        "import tensorflow as tf\n",
        "import keras\n",
        "from keras import layers\n",
        "from keras.layers import TextVectorization\n",
        "from tensorflow.keras.models import load_model"
      ],
      "metadata": {
        "id": "vfdv3nx_hVbk"
      },
      "execution_count": 2,
      "outputs": []
    },
    {
      "cell_type": "markdown",
      "metadata": {
        "id": "9eNUOFrQ_u4L"
      },
      "source": [
        "## Descargando los datos\n",
        "\n",
        "Trabajaremos con un conjunto de datos de traducción del inglés al español proporcionado por [Anki](https://www.manythings.org/anki/).  \n",
        "\n",
        "Vamos a descargarlo:"
      ]
    },
    {
      "cell_type": "code",
      "execution_count": 3,
      "metadata": {
        "id": "5dFD2uFE_u4M",
        "colab": {
          "base_uri": "https://localhost:8080/"
        },
        "outputId": "e2398def-a22c-42f8-8d2b-0871bda26653"
      },
      "outputs": [
        {
          "output_type": "stream",
          "name": "stdout",
          "text": [
            "Downloading data from http://storage.googleapis.com/download.tensorflow.org/data/spa-eng.zip\n",
            "2638744/2638744 [==============================] - 0s 0us/step\n",
            "CPU times: user 76.1 ms, sys: 15.8 ms, total: 91.9 ms\n",
            "Wall time: 207 ms\n"
          ]
        }
      ],
      "source": [
        "text_file = keras.utils.get_file(\n",
        "    fname=\"spa-eng.zip\",\n",
        "    origin=\"http://storage.googleapis.com/download.tensorflow.org/data/spa-eng.zip\",\n",
        "    extract=True,\n",
        ")\n",
        "text_file = pathlib.Path(text_file).parent / \"spa-eng\" / \"spa.txt\""
      ]
    },
    {
      "cell_type": "markdown",
      "metadata": {
        "id": "HacLuLVM_u4N"
      },
      "source": [
        "## Analizando los datos\n",
        "\n",
        "Cada línea contiene una oración en inglés y su correspondiente oración en español.  \n",
        "La oración en inglés es la *secuencia fuente* y la oración en español es la *secuencia objetivo*.  \n",
        "En esta celda, anteponemos el token `\"[start]\"` y agregamos el token `\"[end]\"` a la oración en español."
      ]
    },
    {
      "cell_type": "code",
      "execution_count": 4,
      "metadata": {
        "id": "Gt9UvozX_u4N"
      },
      "outputs": [],
      "source": [
        "with open(text_file) as f:\n",
        "    lines = f.read().split(\"\\n\")[:-1]\n",
        "\n",
        "text_pairs = []\n",
        "for line in lines:\n",
        "    eng, spa = line.split(\"\\t\")\n",
        "    spa = \"[start] \" + spa + \" [end]\"\n",
        "    text_pairs.append((eng, spa))"
      ]
    },
    {
      "cell_type": "markdown",
      "metadata": {
        "id": "dL1_fO_N_u4N"
      },
      "source": [
        "Así es como se ven nuestros pares de oraciones:"
      ]
    },
    {
      "cell_type": "code",
      "execution_count": 5,
      "metadata": {
        "id": "mBwaHdH6_u4O",
        "colab": {
          "base_uri": "https://localhost:8080/"
        },
        "outputId": "dbd89650-664e-44e8-cf01-434d4cabbbe4"
      },
      "outputs": [
        {
          "output_type": "stream",
          "name": "stdout",
          "text": [
            "('I like to dance with Mary.', '[start] Me gusta bailar con Mary. [end]')\n",
            "('Life is enjoyable.', '[start] La vida es divertida. [end]')\n",
            "(\"Tom couldn't find what he was looking for.\", '[start] Tom no pudo encontrar lo que estaba buscando. [end]')\n",
            "('The meeting took place yesterday.', '[start] La reunión tuvo lugar ayer. [end]')\n",
            "('The pond is 3 meters deep.', '[start] La laguna tiene 3 metros de profundidad. [end]')\n"
          ]
        }
      ],
      "source": [
        "for _ in range(5):\n",
        "    print(random.choice(text_pairs))"
      ]
    },
    {
      "cell_type": "markdown",
      "metadata": {
        "id": "689dW2Ur_u4O"
      },
      "source": [
        "Ahora, dividamos los pares de oraciones en un conjunto de entrenamiento, un conjunto de validación y un conjunto de prueba."
      ]
    },
    {
      "cell_type": "code",
      "execution_count": 6,
      "metadata": {
        "id": "BmBfpj8m_u4P",
        "colab": {
          "base_uri": "https://localhost:8080/"
        },
        "outputId": "4910930c-f040-4bb4-fcc5-a8fdf7351455"
      },
      "outputs": [
        {
          "output_type": "stream",
          "name": "stdout",
          "text": [
            "118964 total pairs\n",
            "83276 training pairs\n",
            "17844 validation pairs\n",
            "17844 test pairs\n"
          ]
        }
      ],
      "source": [
        "random.shuffle(text_pairs)\n",
        "num_val_samples = int(0.15 * len(text_pairs))\n",
        "num_train_samples = len(text_pairs) - 2 * num_val_samples\n",
        "\n",
        "# primeros 70 %\n",
        "train_pairs = text_pairs[:num_train_samples]\n",
        "# del 70 % al 85 %\n",
        "test_pairs = text_pairs[num_train_samples + num_val_samples :]\n",
        "# últimos 15 %\n",
        "val_pairs = text_pairs[num_train_samples : num_train_samples + num_val_samples]\n",
        "\n",
        "\n",
        "print(f\"{len(text_pairs)} total pairs\")\n",
        "print(f\"{len(train_pairs)} training pairs\")\n",
        "print(f\"{len(val_pairs)} validation pairs\")\n",
        "print(f\"{len(test_pairs)} test pairs\")"
      ]
    },
    {
      "cell_type": "markdown",
      "source": [
        "## Vectorizando los datos del texto\n",
        "\n",
        "Usaremos dos instancias de la capa `TextVectorization` para vectorizar los datos de texto (una para inglés y otra para español), es decir, convertir las cadenas originales en secuencias de números enteros donde cada número entero representa el índice de una palabra en un vocabulario.\n",
        "\n",
        "La capa en inglés utilizará la estandarización de cadenas predeterminada (eliminar caracteres de puntuación) y esquema de división (dividido en espacios en blanco), mientras que la capa española usará una estandarización personalizada, donde agregamos el carácter\n",
        "`\"¿\"` al conjunto de caracteres de puntuación que se eliminarán.\n"
      ],
      "metadata": {
        "id": "0tz1VbMJZC1r"
      }
    },
    {
      "cell_type": "code",
      "execution_count": 7,
      "metadata": {
        "id": "wdPy9xzA_u4P"
      },
      "outputs": [],
      "source": [
        "\"\"\"\n",
        "La línea strip_chars = strip_chars.replace(\"[\", \"\") utiliza el método\n",
        "replace() para modificar una cadena llamada strip_chars. Así es cómo funciona:\n",
        "\n",
        "    strip_chars.replace(\"[\", \"\"): Esta línea invoca el método replace() en la\n",
        "    cadena strip_chars. La función replace() busca todos los caracteres que\n",
        "    coinciden con el primer argumento (en este caso, el carácter \"[\"), y los\n",
        "    reemplaza con el segundo argumento (en este caso, una cadena vacía \"\", lo\n",
        "    que significa eliminar esos caracteres).\n",
        "\n",
        "    strip_chars = strip_chars.replace(\"[\", \"\"): La línea completa asigna el\n",
        "    resultado de la operación replace() de nuevo a la variable strip_chars.\n",
        "\n",
        "    Esto significa que la cadena original strip_chars se modifica y reemplaza\n",
        "    todas las ocurrencias del carácter \"[\" por una cadena vacía \"\" en sí misma.\n",
        "    Similarmente sucede con el carácter \"]\".\n",
        "\"\"\"\n",
        "strip_chars = string.punctuation + \"¿\"\n",
        "strip_chars = strip_chars.replace(\"[\", \"\")\n",
        "strip_chars = strip_chars.replace(\"]\", \"\")\n",
        "\n",
        "vocab_size = 15000\n",
        "sequence_length = 20\n",
        "batch_size = 64\n",
        "\n",
        "\n",
        "def custom_standardization(input_string):\n",
        "    lowercase = tf.strings.lower(input_string)\n",
        "    return tf.strings.regex_replace(lowercase, \"[%s]\" % re.escape(strip_chars), \"\")\n",
        "\n",
        "\"\"\"\n",
        "La siguiente parte del código esta relacionada con la vectorización de texto\n",
        "utilizando la clase TextVectorization de TensorFlow.\n",
        "\n",
        "Ésta es la explicación de los parámetros utilizados:\n",
        "\n",
        "    max_tokens=vocab_size:\n",
        "    Este parámetro define la cantidad máxima de tokens únicos que se utilizarán\n",
        "    en la vectorización. vocab_size representa el tamaño máximo del vocabulario,\n",
        "    es decir, la cantidad máxima de palabras diferentes permitidas.\n",
        "\n",
        "    output_mode=\"int\":\n",
        "    Este parámetro especifica el modo de salida de la vectorización.\n",
        "    En este caso, se configura para que la salida sea una representación entera de\n",
        "    las palabras/tokenes.\n",
        "\n",
        "    output_sequence_length=sequence_length:\n",
        "    Aquí se establece la longitud máxima de las secuencias de salida.\n",
        "    'sequence_length' indica la longitud máxima que tendrá cada secuencia\n",
        "    después de la vectorización.\n",
        "\n",
        "En síntesis, esta configuración de 'TextVectorization' indica que se va a realizar\n",
        "una vectorización de texto con un límite de tokens, se generarán representaciones\n",
        "enteras para los tokens y se limitará la longitud de las secuencias de salida a un\n",
        "tamaño específico (sequence_length).\n",
        "\n",
        "\"\"\"\n",
        "# Para el texto en inglés\n",
        "eng_vectorization = TextVectorization(\n",
        "    max_tokens=vocab_size,\n",
        "    output_mode=\"int\",\n",
        "    output_sequence_length=sequence_length,\n",
        ")\n",
        "\n",
        "\"\"\"\n",
        "    La siguiente sentencia es similar a la anterior, pero se le agrega el uso de la\n",
        "      función definida \"custom_standardization\" (standardize=custom_standardization)\n",
        "\"\"\"\n",
        "# Para el texto en español\n",
        "spa_vectorization = TextVectorization(\n",
        "    max_tokens=vocab_size,\n",
        "    output_mode=\"int\",\n",
        "    output_sequence_length=sequence_length + 1,\n",
        "    standardize=custom_standardization,\n",
        ")\n",
        "\n",
        "\"\"\"\n",
        "    train_eng_texts = [pair[0] for pair in train_pairs]:\n",
        "    Esta línea crea una lista 'train_eng_texts' que contiene el primer elemento\n",
        "    de cada par en 'train_pairs'.\n",
        "    'train_pairs' es la lista de pares donde el primer elemento de cada par es un texto en inglés.\n",
        "\n",
        "    Para realizar esta actividad, usamos un loop for 'condensado'\n",
        "\"\"\"\n",
        "train_eng_texts = [pair[0] for pair in train_pairs]\n",
        "train_spa_texts = [pair[1] for pair in train_pairs]\n",
        "\n",
        "\"\"\"\n",
        "    eng_vectorization.adapt(train_eng_texts):\n",
        "    La llamada al método adapt() ajusta el componente eng_vectorization\n",
        "    basándose en los textos de entrenamiento en inglés proporcionados en\n",
        "    'train_eng_texts'.\n",
        "    Lo que esto hace es analizar los textos de entrenamiento para construir el\n",
        "    vocabulario, tokenizar y preprocesar el texto según los parámetros\n",
        "    previamente configurados en eng_vectorization.\n",
        "    La adaptación permite que el componente aprenda del corpus de entrenamiento\n",
        "    y ajuste su comportamiento (como el vocabulario y las transformaciones aplicadas)\n",
        "    para que coincida mejor con los datos reales.\n",
        "\"\"\"\n",
        "eng_vectorization.adapt(train_eng_texts)\n",
        "spa_vectorization.adapt(train_spa_texts)"
      ]
    },
    {
      "cell_type": "markdown",
      "source": [
        "A continuación, formatearemos nuestros conjuntos de datos.\n",
        "\n",
        "En cada paso de entrenamiento, el modelo buscará predecir las palabras objetivo N+1 (y más allá) utilizando la oración fuente y las palabras objetivo 0 a N.\n",
        "\n",
        "Como tal, el conjunto de datos de entrenamiento generará una tupla `(inputs, targets)`, donde:  \n",
        "\n",
        "- _inputs_ es un diccionario con las claves `encoder_inputs` y `decoder_inputs`.  \n",
        "`encoder_inputs` es la oración fuente vectorizada y `decoder_inputs` es la oración objetivo \"hasta ahora\", es decir, las palabras 0 a N utilizadas para predecir la palabra N+1 (y más allá) en la oración objetivo.  \n",
        "- _target_ es el objetivo es la oración objetivo compensada por un paso: proporciona las siguientes palabras en la oración objetivo: lo que el modelo intentará predecir."
      ],
      "metadata": {
        "id": "5q8WfHTfhcTG"
      }
    },
    {
      "cell_type": "code",
      "source": [
        "\"\"\"\n",
        "La función `format_dataset` esta diseñada para dar formato a un conjunto de datos\n",
        "que contiene textos en inglés (`eng`) y textos en español (`spa`).\n",
        "Esta función se usa para preparar datos para un modelo de traducción automática.\n",
        "\n",
        "Esto haca esta función:\n",
        "\n",
        "1. 'eng = eng_vectorization(eng)' y 'spa = spa_vectorization(spa)':\n",
        "   Estas líneas aplican la vectorización a los textos en inglés ('eng') y\n",
        "   español ('spa').\n",
        "   'eng_vectorization' y 'spa_vectorization' fueron definidaas anteriormente,\n",
        "   son funciones que toman textos en su forma original y los transforman\n",
        "   utilizando técnicas de vectorización con 'TextVectorization'.\n",
        "\n",
        "2. 'return ({...}, ...)':\n",
        "   La función retorna un diccionario y un tensor.\n",
        "   En el diccionario, se espera que el tensor 'encoder_inputs' contenga los\n",
        "   textos en inglés procesados, y el tensor 'decoder_inputs' contendrá los\n",
        "   textos en español pero truncados por la derecha para su uso como entradas del\n",
        "   decodificador.\n",
        "   Además, el tensor retornado fuera del diccionario contiene los textos en\n",
        "   español pero truncados por la izquierda para su uso como objetivos de salida\n",
        "   del modelo.\n",
        "\"\"\"\n",
        "def format_dataset(eng, spa):\n",
        "    eng = eng_vectorization(eng)\n",
        "    spa = spa_vectorization(spa)\n",
        "    return (\n",
        "        {\n",
        "            \"encoder_inputs\": eng,\n",
        "            \"decoder_inputs\": spa[:, :-1],\n",
        "        },\n",
        "        spa[:, 1:],\n",
        "    )\n"
      ],
      "metadata": {
        "id": "xlgaKqMrQlZv"
      },
      "execution_count": 8,
      "outputs": []
    },
    {
      "cell_type": "code",
      "execution_count": 9,
      "metadata": {
        "id": "YWAipxgz_u4Q"
      },
      "outputs": [],
      "source": [
        "\"\"\"\n",
        "Esta función crea un conjunto de datos en formato apropiado para entrenar un\n",
        "modelo de aprendizaje automático de traducción, con pares de textos en inglés y español.\n",
        "\n",
        "Esta es la explicación paso a paso de lo que hace esta función:\n",
        "\n",
        "1. 'eng_texts, spa_texts = zip(*pairs)':\n",
        "   'pairs' es una lista de pares de textos, donde el primer elemento de cada par\n",
        "   corresponde a un texto en inglés y el segundo a un texto en español.\n",
        "   'zip(*pairs)' desempaqueta estos pares en dos secuencias separadas:\n",
        "   'eng_texts' (textos en inglés) y 'spa_texts' (textos en español).\n",
        "\n",
        "2. 'eng_texts = list(eng_texts)' y 'spa_texts = list(spa_texts)':\n",
        "      Convierte las secuencias de textos en inglés y español de tuplas a listas.\n",
        "\n",
        "3. 'dataset = tf.data.Dataset.from_tensor_slices((eng_texts, spa_texts))':\n",
        "      Crea un conjunto de datos TensorFlow 'dataset' a partir de las listas de\n",
        "      textos en inglés y español. Usa 'from_tensor_slices' para generar un\n",
        "      dataset a partir de los tensores 'eng_texts' y 'spa_texts'.\n",
        "\n",
        "4. 'dataset = dataset.batch(batch_size)':\n",
        "      Agrupa los elementos del dataset en lotes de tamaño 'batch_size'.\n",
        "\n",
        "5. 'dataset = dataset.map(format_dataset)':\n",
        "      Aplica la función `format_dataset` a cada elemento del dataset.\n",
        "      Esta función 'format_dataset' posiblemente realiza algún tipo de\n",
        "      preprocesamiento o transformación de los datos, como la vectorización de\n",
        "      los textos, ajuste de longitudes, etc.\n",
        "\n",
        "6. 'return dataset.cache().shuffle(2048).prefetch(16)':\n",
        "      Devuelve el dataset con ciertas operaciones encadenadas:\n",
        "   - 'cache()': Almacena en caché los datos en memoria, lo que puede acelerar el\n",
        "      entrenamiento si se repite varias veces.\n",
        "   - 'shuffle(2048)': Mezcla aleatoriamente los elementos del dataset utilizando\n",
        "      un búfer de tamaño 2048 (tamaño del búfer de mezcla).\n",
        "   - 'prefetch(16)': Carga lotes de datos adicionales (16 lotes, en este caso)\n",
        "      en memoria antes de que se soliciten, lo que puede mejorar la velocidad de\n",
        "      entrenamiento al permitir que la GPU o CPU acceda a los datos de forma más eficiente.\n",
        "\"\"\"\n",
        "def make_dataset(pairs):\n",
        "    eng_texts, spa_texts = zip(*pairs)\n",
        "    eng_texts = list(eng_texts)\n",
        "    spa_texts = list(spa_texts)\n",
        "    dataset = tf.data.Dataset.from_tensor_slices((eng_texts, spa_texts))\n",
        "    dataset = dataset.batch(batch_size)\n",
        "    dataset = dataset.map(format_dataset)\n",
        "    return dataset.cache().shuffle(2048).prefetch(16)\n"
      ]
    },
    {
      "cell_type": "code",
      "source": [
        "train_ds = make_dataset(train_pairs)\n",
        "val_ds = make_dataset(val_pairs)"
      ],
      "metadata": {
        "id": "7EW8nXfiR0fx"
      },
      "execution_count": 11,
      "outputs": []
    },
    {
      "cell_type": "markdown",
      "source": [
        "Veamos de manera rápida a las formas de las secuencias (tenemos lotes de 64 pares y todas las secuencias tienen 20 pasos):"
      ],
      "metadata": {
        "id": "DD-yhmOBisVl"
      }
    },
    {
      "cell_type": "code",
      "execution_count": 12,
      "metadata": {
        "id": "0ruo3Qle_u4Q",
        "colab": {
          "base_uri": "https://localhost:8080/"
        },
        "outputId": "682abbd9-b2b7-43c1-cb30-8bdfe207ecb2"
      },
      "outputs": [
        {
          "output_type": "stream",
          "name": "stdout",
          "text": [
            "inputs[\"encoder_inputs\"].shape: (64, 20)\n",
            "inputs[\"decoder_inputs\"].shape: (64, 20)\n",
            "targets.shape: (64, 20)\n"
          ]
        }
      ],
      "source": [
        "for inputs, targets in train_ds.take(1):\n",
        "    print(f'inputs[\"encoder_inputs\"].shape: {inputs[\"encoder_inputs\"].shape}')\n",
        "    print(f'inputs[\"decoder_inputs\"].shape: {inputs[\"decoder_inputs\"].shape}')\n",
        "    print(f\"targets.shape: {targets.shape}\")"
      ]
    },
    {
      "cell_type": "markdown",
      "source": [
        "## Construyendo el modelo\n",
        "1. `TransformerEncoder`\n",
        "2. `PositionalEmbedding`\n",
        "3. `TransformerDecoder`\n",
        "\n",
        "Nuestro `Transformer` _`secuencia a secuencia`_ consta de un `TransformerEncoder` y un `TransformerDecoder` encadenados.   \n",
        "Para que el modelo tenga en cuenta el orden de las palabras, también utilizamos una capa `PositionalEmbedding`.\n",
        "\n",
        "La secuencia fuente se pasará al `TransformerEncoder`, que producirá una nueva representación de la misma. Esta nueva representación luego se pasará al `TransformerDecoder`, junto con la secuencia objetivo hasta el momento (palabras objetivo 0 a N).   \n",
        "\n",
        "Luego, `TransformerDecoder` buscará predecir las siguientes palabras en la secuencia objetivo (N+1 y más).\n",
        "\n",
        "Un detalle clave que hace esto posible es el enmascaramiento causal (consulte el método get_causal_attention_mask() en `TransformerDecoder`).  \n",
        "El `TransformerDecoder` ve las secuencias completas a la vez y, por lo tanto, debemos asegurarnos de que solo use información de los tokens objetivo 0 a N al predecir el token N+1 (de lo contrario, podría usar información del futuro, lo que daría como resultado un modelo que no se puede utilizar en el momento de la inferencia)."
      ],
      "metadata": {
        "id": "OM86ILcYi4YT"
      }
    },
    {
      "cell_type": "code",
      "source": [
        "\"\"\"\n",
        "Esta clase 'TransformerEncoder' representa una capa de un modelo Transformer\n",
        "para la etapa de codificación (encoder).\n",
        "\n",
        "Aquí está la explicación de sus partes:\n",
        "\n",
        "- '__init__': El método '__init__' inicializa los parámetros de la capa.\n",
        "     Recibe como argumentos 'embed_dim', 'dense_dim' y 'num_heads', que\n",
        "    representan la dimensionalidad de los embeddings, la dimensionalidad de las\n",
        "    capas densas y el número de encabezado, respectivamente.\n",
        "\n",
        "    En este método se definen las diferentes capas que componen la capa del encoder:\n",
        "  - 'self.attention': Una capa de atención multi-cabeza ('layers.MultiHeadAttention')\n",
        "     que usa el número de encabezados y la dimensionalidad del embedding para calcular\n",
        "     la atención entre las diferentes partes de la secuencia de entrada.\n",
        "  - 'self.dense_proj': Una secuencia de capas densas ('tf.keras.Sequential')\n",
        "     compuesta por dos capas densas, una con una activación ReLU ('layers.Dense(dense_dim, activation=\"relu\")')\n",
        "     y otra sin activación ('layers.Dense(embed_dim)').\n",
        "  - 'self.layernorm_1' y 'self.layernorm_2': Capas de normalización ('layers.LayerNormalization')\n",
        "     aplicadas después de ciertas operaciones para estabilizar el entrenamiento.\n",
        "  - 'self.supports_masking': Indica que esta capa admite el uso de máscaras durante\n",
        "     el entrenamiento (para ocultar ciertas partes de las secuencias).\n",
        "\n",
        "- 'call': El método 'call' define la lógica de cómo se propaga la entrada a través\n",
        "    de la capa. Toma la entrada `inputs` y una máscara opcional 'mask'.\n",
        "    Realiza los siguientes pasos:\n",
        "  - Si hay una máscara, se prepara una máscara de relleno ('padding_mask') utilizando\n",
        "    la máscara proporcionada.\n",
        "  - Calcula la atención usando la capa de atención multi-cabeza entre la entrada y\n",
        "    ella misma, aplicando la máscara de relleno si está presente.\n",
        "  - Aplica normalización y proyección densa a la salida de la atención.\n",
        "  - Retorna la salida de la segunda capa de normalización.\n",
        "\n",
        "- 'get_config': El método 'get_config' devuelve la configuración de la capa,\n",
        "   incluyendo los valores de 'embed_dim', 'dense_dim' y 'num_heads'.\n",
        "\"\"\"\n",
        "class TransformerEncoder(layers.Layer):\n",
        "    def __init__(self, embed_dim, dense_dim, num_heads, **kwargs):\n",
        "        super().__init__(**kwargs)\n",
        "        self.embed_dim = embed_dim\n",
        "        self.dense_dim = dense_dim\n",
        "        self.num_heads = num_heads\n",
        "        self.attention = layers.MultiHeadAttention(\n",
        "            num_heads=num_heads, key_dim=embed_dim\n",
        "        )\n",
        "        self.dense_proj = tf.keras.Sequential(\n",
        "            [\n",
        "                layers.Dense(dense_dim, activation=\"relu\"),\n",
        "                layers.Dense(embed_dim),\n",
        "            ]\n",
        "        )\n",
        "        self.layernorm_1 = layers.LayerNormalization()\n",
        "        self.layernorm_2 = layers.LayerNormalization()\n",
        "        self.supports_masking = True\n",
        "\n",
        "    def call(self, inputs, mask=None):\n",
        "        if mask is not None:\n",
        "            padding_mask = tf.cast(mask[:, None, :], dtype=\"int32\")\n",
        "        else:\n",
        "            padding_mask = None\n",
        "\n",
        "        attention_output = self.attention(\n",
        "            query=inputs, value=inputs, key=inputs, attention_mask=padding_mask\n",
        "        )\n",
        "        proj_input = self.layernorm_1(inputs + attention_output)\n",
        "        proj_output = self.dense_proj(proj_input)\n",
        "        return self.layernorm_2(proj_input + proj_output)\n",
        "\n",
        "    def get_config(self):\n",
        "        config = super().get_config()\n",
        "        config.update(\n",
        "            {\n",
        "                \"embed_dim\": self.embed_dim,\n",
        "                \"dense_dim\": self.dense_dim,\n",
        "                \"num_heads\": self.num_heads,\n",
        "            }\n",
        "        )\n",
        "        return config\n"
      ],
      "metadata": {
        "id": "I09r_nrlVjFy"
      },
      "execution_count": 13,
      "outputs": []
    },
    {
      "cell_type": "code",
      "source": [
        "\"\"\"\n",
        "Esta clase en TensorFlow representa una capa de incrustación posicional que se\n",
        "usa comúnmente en modelos de atención o transformadores para incorporar información\n",
        "sobre la posición de las palabras en una secuencia.\n",
        "\n",
        "- '__init__': En el constructor '__init__', se definen dos capas de incrustación\n",
        "   ('Embedding') para tokens y posiciones. Ambas capas tienen como entrada la\n",
        "   dimensión del vocabulario y la longitud de la secuencia, respectivamente, y\n",
        "   tienen la misma dimensión de incrustación (`embed_dim`). Se almacenan también\n",
        "   los parámetros de la secuencia, tamaño de vocabulario y dimensión de incrustación\n",
        "   para su uso posterior.\n",
        "\n",
        "- 'call': En el método 'call', se calcula la incrustación posicional sumando las\n",
        "   incrustaciones de tokens y posiciones. Los tokens se pasan a través de la capa\n",
        "   de incrustación de tokens ('token_embeddings'), y las posiciones se generan usando\n",
        "   'tf.range()' y luego se pasan a través de la capa de incrustación de posiciones\n",
        "   ('position_embeddings'). Estas incrustaciones se suman elemento a elemento.\n",
        "\n",
        "- 'compute_mask': Esta función se utiliza para generar una máscara que indica las\n",
        "   posiciones en las que los tokens son diferentes de cero. Si la entrada es cero,\n",
        "   se devuelve 'None'; de lo contrario, se devuelve una máscara booleana que indica\n",
        "   los valores diferentes de cero.\n",
        "\n",
        "- 'get_config': Devuelve la configuración de la capa, lo que permite reconstruir\n",
        "   la capa con la misma configuración. Retorna un diccionario con la longitud de\n",
        "   secuencia, tamaño del vocabulario y dimensión de incrustación.\n",
        "\"\"\"\n",
        "class PositionalEmbedding(layers.Layer):\n",
        "    def __init__(self, sequence_length, vocab_size, embed_dim, **kwargs):\n",
        "        super().__init__(**kwargs)\n",
        "        self.token_embeddings = layers.Embedding(\n",
        "            input_dim=vocab_size, output_dim=embed_dim\n",
        "        )\n",
        "        self.position_embeddings = layers.Embedding(\n",
        "            input_dim=sequence_length, output_dim=embed_dim\n",
        "        )\n",
        "        self.sequence_length = sequence_length\n",
        "        self.vocab_size = vocab_size\n",
        "        self.embed_dim = embed_dim\n",
        "\n",
        "    def call(self, inputs):\n",
        "        length = tf.shape(inputs)[-1]\n",
        "        positions = tf.range(0, length, 1)\n",
        "        embedded_tokens = self.token_embeddings(inputs)\n",
        "        embedded_positions = self.position_embeddings(positions)\n",
        "        return embedded_tokens + embedded_positions\n",
        "\n",
        "    def compute_mask(self, inputs, mask=None):\n",
        "        if mask is None:\n",
        "            return None\n",
        "        else:\n",
        "            return tf.not_equal(inputs, 0)\n",
        "\n",
        "    def get_config(self):\n",
        "        config = super().get_config()\n",
        "        config.update(\n",
        "            {\n",
        "                \"sequence_length\": self.sequence_length,\n",
        "                \"vocab_size\": self.vocab_size,\n",
        "                \"embed_dim\": self.embed_dim,\n",
        "            }\n",
        "        )\n",
        "        return config\n",
        "\n"
      ],
      "metadata": {
        "id": "WbL23-xCVsWI"
      },
      "execution_count": 14,
      "outputs": []
    },
    {
      "cell_type": "code",
      "source": [
        "\"\"\"\n",
        "Esta clase 'TransformerDecoder' representa una capa del decodificador de un\n",
        "modelo de Transformer.\n",
        "El decodificador en un modelo de Transformer es responsable de generar la salida secuencial,\n",
        "basándose en la información generada por el codificador  y la salida previamente generada.\n",
        "\n",
        "Esta es la explicación del código:\n",
        "\n",
        "- '__init__': En el constructor '__init__', se inicializan varias capas necesarias\n",
        "     para el decodificador. Esto incluye capas de atención ('attention_1' y 'attention_2')\n",
        "     que permiten al decodificador enfocarse en diferentes partes de la entrada y las\n",
        "     incrustaciones (`dense_proj`) que se utilizan para proyectar y transformar las características.\n",
        "\n",
        "- 'call': En el método `call`, se lleva a cabo el cálculo del decodificador.\n",
        "     Se genera una máscara de atención causal (`causal_mask`) que se utiliza para\n",
        "     asegurar que en cada paso de tiempo, las predicciones futuras no se utilicen\n",
        "     para generar la salida actual. Luego, se aplican capas de atención y normalización\n",
        "     a los datos de entrada y a las salidas del codificador, y se realiza una proyección\n",
        "     con la capa densa.\n",
        "\n",
        "- 'get_causal_attention_mask': Este método crea una máscara de atención causal.\n",
        "     Esta máscara se utiliza en la capa de atención para evitar que las posiciones\n",
        "     futuras influyan en las posiciones actuales durante la generación de la secuencia.\n",
        "\n",
        "- 'get_config': Este método devuelve la configuración de la capa. Devuelve un\n",
        "     diccionario con los parámetros del decodificador.\n",
        "\"\"\"\n",
        "class TransformerDecoder(layers.Layer):\n",
        "    def __init__(self, embed_dim, latent_dim, num_heads, **kwargs):\n",
        "        super().__init__(**kwargs)\n",
        "        self.embed_dim = embed_dim\n",
        "        self.latent_dim = latent_dim\n",
        "        self.num_heads = num_heads\n",
        "        self.attention_1 = layers.MultiHeadAttention(\n",
        "            num_heads=num_heads, key_dim=embed_dim\n",
        "        )\n",
        "        self.attention_2 = layers.MultiHeadAttention(\n",
        "            num_heads=num_heads, key_dim=embed_dim\n",
        "        )\n",
        "        self.dense_proj = tf.keras.Sequential(\n",
        "            [\n",
        "                layers.Dense(latent_dim, activation=\"relu\"),\n",
        "                layers.Dense(embed_dim),\n",
        "            ]\n",
        "        )\n",
        "        self.layernorm_1 = layers.LayerNormalization()\n",
        "        self.layernorm_2 = layers.LayerNormalization()\n",
        "        self.layernorm_3 = layers.LayerNormalization()\n",
        "        self.supports_masking = True\n",
        "\n",
        "    def call(self, inputs, encoder_outputs, mask=None):\n",
        "        causal_mask = self.get_causal_attention_mask(inputs)\n",
        "        if mask is not None:\n",
        "            padding_mask = tf.cast(mask[:, None, :], dtype=\"int32\")\n",
        "            padding_mask = tf.minimum(padding_mask, causal_mask)\n",
        "        else:\n",
        "            padding_mask = None\n",
        "\n",
        "        attention_output_1 = self.attention_1(\n",
        "            query=inputs, value=inputs, key=inputs, attention_mask=causal_mask\n",
        "        )\n",
        "        out_1 = self.layernorm_1(inputs + attention_output_1)\n",
        "\n",
        "        attention_output_2 = self.attention_2(\n",
        "            query=out_1,\n",
        "            value=encoder_outputs,\n",
        "            key=encoder_outputs,\n",
        "            attention_mask=padding_mask,\n",
        "        )\n",
        "        out_2 = self.layernorm_2(out_1 + attention_output_2)\n",
        "\n",
        "        proj_output = self.dense_proj(out_2)\n",
        "        return self.layernorm_3(out_2 + proj_output)\n",
        "\n",
        "    def get_causal_attention_mask(self, inputs):\n",
        "        input_shape = tf.shape(inputs)\n",
        "        batch_size, sequence_length = input_shape[0], input_shape[1]\n",
        "        i = tf.range(sequence_length)[:, None]\n",
        "        j = tf.range(sequence_length)\n",
        "        mask = tf.cast(i >= j, dtype=\"int32\")\n",
        "        mask = tf.reshape(mask, (1, input_shape[1], input_shape[1]))\n",
        "        mult = tf.concat(\n",
        "            [tf.expand_dims(batch_size, -1), tf.convert_to_tensor([1, 1])],\n",
        "            axis=0,\n",
        "        )\n",
        "        return tf.tile(mask, mult)\n",
        "\n",
        "    def get_config(self):\n",
        "        config = super().get_config()\n",
        "        config.update(\n",
        "            {\n",
        "                \"embed_dim\": self.embed_dim,\n",
        "                \"latent_dim\": self.latent_dim,\n",
        "                \"num_heads\": self.num_heads,\n",
        "            }\n",
        "        )\n",
        "        return config\n"
      ],
      "metadata": {
        "id": "8PRcNeRCDGCK"
      },
      "execution_count": 15,
      "outputs": []
    },
    {
      "cell_type": "markdown",
      "source": [
        "A continuación, ensamblamos el modelo de un extremo a otro."
      ],
      "metadata": {
        "id": "xqksj8fGm8n9"
      }
    },
    {
      "cell_type": "code",
      "source": [
        "\n",
        "vocab_size = 15000\n",
        "sequence_length = 20\n",
        "batch_size = 64\n"
      ],
      "metadata": {
        "id": "eHcc6kmstjxD"
      },
      "execution_count": 10,
      "outputs": []
    },
    {
      "cell_type": "code",
      "execution_count": 16,
      "metadata": {
        "id": "ZQysrIAT_u4R"
      },
      "outputs": [],
      "source": [
        "\"\"\"\n",
        "Este código crea un modelo de Transformer para tareas de secuencia a secuencia.\n",
        "Este es el desglose de lo que hace:\n",
        "\n",
        "1. Definición de parámetros:\n",
        "   Se definen los parámetros 'embed_dim', 'latent_dim' y 'num_heads', que representan\n",
        "   la dimensión de incrustación, la dimensión latente y el número de cabezas de atención,\n",
        "   respectivamente.\n",
        "\n",
        "2. Creación del codificador:\n",
        "   Se define el modelo del codificador. Utiliza la capa de entrada 'encoder_inputs'\n",
        "   y se pasa a través de una capa de incrustación posicional ('PositionalEmbedding')\n",
        "   que asigna incrustaciones a las entradas del codificador.\n",
        "\n",
        "   Luego, pasa por la capa del codificador ('TransformerEncoder') para producir\n",
        "   los 'encoder_outputs'. Este modelo del codificador se define utilizando la API\n",
        "   funcional de Keras.\n",
        "\n",
        "3. Creación del decodificador:\n",
        "   Se define el modelo del decodificador. Utiliza las capas de entrada 'decoder_inputs'\n",
        "   y 'encoded_seq_inputs'. Similar al codificador, las entradas del decodificador\n",
        "   pasan a través de una capa de incrustación posicional ('PositionalEmbedding') y\n",
        "   luego por la capa del decodificador ('TransformerDecoder').\n",
        "\n",
        "   Después de eso, se aplica una capa de dropout y se pasa a través de una capa\n",
        "   densa con activación softmax para generar las salidas del decodificador.\n",
        "\n",
        "4. Modelo final del Transformer:\n",
        "   Finalmente, se define el modelo global del Transformer, que toma las entradas\n",
        "   del codificador y del decodificador ('encoder_inputs' y 'decoder_inputs') para\n",
        "   generar las salidas del decodificador.\n",
        "\n",
        "   Este modelo se construye utilizando la API funcional de Keras.\n",
        "\n",
        "\"\"\"\n",
        "# Estaas variables ya fueron definidas anteriormente\n",
        "embed_dim = 256\n",
        "latent_dim = 2048\n",
        "num_heads = 8\n",
        "\n",
        "# ------------------------------------------------------------------------------\n",
        "encoder_inputs = keras.Input(shape=(None,), dtype=\"int64\", name=\"encoder_inputs\")\n",
        "\n",
        "x = PositionalEmbedding(sequence_length, vocab_size, embed_dim)(encoder_inputs)\n",
        "\n",
        "encoder_outputs = TransformerEncoder(embed_dim, latent_dim, num_heads)(x)\n",
        "encoder = keras.Model(encoder_inputs, encoder_outputs)\n",
        "\n",
        "\n",
        "# ------------------------------------------------------------------------------\n",
        "decoder_inputs = keras.Input(shape=(None,), dtype=\"int64\", name=\"decoder_inputs\")\n",
        "encoded_seq_inputs = keras.Input(shape=(None, embed_dim), name=\"decoder_state_inputs\")\n",
        "\n",
        "x = PositionalEmbedding(sequence_length, vocab_size, embed_dim)(decoder_inputs)\n",
        "x = TransformerDecoder(embed_dim, latent_dim, num_heads)(x, encoded_seq_inputs)\n",
        "x = layers.Dropout(0.5)(x)\n",
        "\n",
        "decoder_outputs = layers.Dense(vocab_size, activation=\"softmax\")(x)\n",
        "decoder = keras.Model([decoder_inputs, encoded_seq_inputs], decoder_outputs)\n",
        "\n",
        "\n",
        "# ------------------------------------------------------------------------------\n",
        "decoder_outputs = decoder([decoder_inputs, encoder_outputs])\n",
        "transformer = keras.Model(\n",
        "    [encoder_inputs, decoder_inputs], decoder_outputs, name=\"transformer\"\n",
        ")"
      ]
    },
    {
      "cell_type": "markdown",
      "source": [
        "### Visualización de la arquitectura de un modelo de red neuronal\n",
        "Estas lineas de código son útiles para visualizar la arquitectura de un modelo de red neuronal de TensorFlow Keras, mostrando las capas del modelo y cómo están conectadas. El archivo de imagen model_plot.png contendrá el diagrama generado del modelo.\n",
        "Explicación de las siguientes líneas decódigo:\n",
        "\n",
        "```Python\n",
        "    from tensorflow.keras.utils import plot_model\n",
        "```\n",
        "    Importa la función plot_model de la biblioteca tensorflow.keras.utils. Esta función se utiliza para generar un diagrama visual del modelo.\n",
        "\n",
        "```Python\n",
        "    plot_model(transformer, to_file='model_plot.png', show_shapes=True, show_layer_names=True)\n",
        "```\n",
        "    Genera un diagrama del modelo proporcionado como argumento (transformer en este caso) y lo guarda como una imagen llamada model_plot.png.\n",
        "\n",
        "Los parámetros opcionales `show_shapes=True` y `show_layer_names=True` controlan si se muestran los detalles de las formas de las capas y los nombres de las capas, respectivamente, en el diagrama generado."
      ],
      "metadata": {
        "id": "VbMpuu0yvwcS"
      }
    },
    {
      "cell_type": "code",
      "source": [
        "from tensorflow.keras.utils import plot_model\n",
        "# Generar un diagrama del modelo y guardarlo como imagen\n",
        "plot_model(transformer, to_file='model_plot.png', show_shapes=True, show_layer_names=True)"
      ],
      "metadata": {
        "colab": {
          "base_uri": "https://localhost:8080/",
          "height": 422
        },
        "id": "aSjhBpXRs3N6",
        "outputId": "2848523c-603c-4187-d7af-26bde2704f2b"
      },
      "execution_count": 17,
      "outputs": [
        {
          "output_type": "execute_result",
          "data": {
            "image/png": "[encoded data removed]",
            "text/plain": [
              "<IPython.core.display.Image object>"
            ]
          },
          "metadata": {},
          "execution_count": 17
        }
      ]
    },
    {
      "cell_type": "markdown",
      "metadata": {
        "id": "viJb47Dd_u4S"
      },
      "source": [
        "## Entrenando nuestro modelo\n",
        "\n",
        "Usaremos la precisión como una forma rápida de monitorear el progreso del entrenamiento en los datos de validación.\n",
        "Tenga en cuenta que la traducción automática suele utilizar puntuaciones BLEU, así como otras métricas, en lugar de precisión.\n",
        "\n",
        "Aquí solo entrenamos durante 1 época, pero para que el modelo realmente converja debes entrenar durante al menos 30 épocas."
      ]
    },
    {
      "cell_type": "markdown",
      "source": [
        "## Puntuación BLEU (Bilingual Evaluation Understudy)\n",
        "La puntuación BLEU (Bilingual Evaluation Understudy) es una métrica comúnmente utilizada para evaluar la calidad de las traducciones generadas por sistemas de traducción automática. Fue propuesta para proporcionar una medida automatizada de la calidad de las traducciones, en comparación con las evaluaciones manuales que pueden ser costosas y laboriosas de realizar.\n",
        "\n",
        "El objetivo principal de BLEU es cuantificar qué tan cerca está una traducción automática de una referencia o un conjunto de referencias humanas (traducciones de alta calidad realizadas por humanos) para un determinado texto.\n",
        "\n",
        "El proceso de cálculo de la puntuación BLEU implica los siguientes pasos:\n",
        "\n",
        "1. **N-gram overlap:** Compara la similitud entre los n-gramas (secuencias de n palabras) en la traducción generada y las referencias humanas. Generalmente se utilizan n-gramas de longitud 1 a 4.\n",
        "\n",
        "2. **Precision:** Evalúa qué porcentaje de los n-gramas en la traducción automática coinciden con los presentes en las referencias. Cuanto mayor sea la coincidencia, mayor será la puntuación de precisión.\n",
        "\n",
        "3. **Brevity Penalty:** Penaliza las traducciones que son más cortas en comparación con las referencias, ya que una traducción muy corta podría tener una puntuación alta en precisión pero podría no ser una traducción adecuada.\n",
        "\n",
        "La puntuación BLEU se calcula como un valor entre 0 y 1, donde 1 indica una coincidencia perfecta con las referencias humanas. Sin embargo, es importante tener en cuenta que la puntuación BLEU no es perfecta y puede no capturar todos los aspectos de la calidad de la traducción, ya que se centra principalmente en la similitud de los n-gramas y no en la comprensión semántica o la coherencia global del texto traducido."
      ],
      "metadata": {
        "id": "Qtg2aPZDVsGe"
      }
    },
    {
      "cell_type": "markdown",
      "source": [
        "## n-gramas\n",
        "Los \"n-gramas\" son secuencias de palabras consecutivas tomadas de un texto, donde \"n\" representa el número de palabras en cada secuencia. Estos n-gramas son utilizados en procesamiento de lenguaje natural y análisis de texto para capturar la estructura y las características del lenguaje.\n",
        "\n",
        "Por ejemplo:\n",
        "\n",
        "- **Unigrama (1-grama):** Un unigrama consiste en una sola palabra. Por ejemplo, en la oración \"El perro corre\", los unigramas serían: \"El\", \"perro\", \"corre\".\n",
        "\n",
        "- **Bigrama (2-grama):** Un bigrama consiste en secuencias de dos palabras consecutivas. Siguiendo el ejemplo anterior, los bigramas serían: \"El perro\", \"perro corre\".\n",
        "\n",
        "- **Trigrama (3-grama):** Un trigrama consta de secuencias de tres palabras consecutivas. En la misma oración, los trigramas serían: \"El perro corre\".\n",
        "\n",
        "- **Cuatrigrama (4-grama):** Un cuatrigrama se compone de secuencias de cuatro palabras consecutivas. Para la oración dada, solo hay un cuatrigrama: \"El perro corre\".\n",
        "\n",
        "Estos n-gramas se utilizan en diversas aplicaciones de procesamiento de lenguaje natural, como modelos de lenguaje, traducción automática, extracción de características en análisis de texto, entre otros. La elección del valor de \"n\" determina el nivel de detalle o granularidad de las secuencias de palabras utilizadas para el análisis del texto."
      ],
      "metadata": {
        "id": "ei13HLegV2iv"
      }
    },
    {
      "cell_type": "code",
      "execution_count": null,
      "metadata": {
        "id": "SuoUjJVT_u4S",
        "colab": {
          "base_uri": "https://localhost:8080/"
        },
        "outputId": "088cc092-a09f-4f29-b7ef-0d830ed14c0a"
      },
      "outputs": [
        {
          "output_type": "stream",
          "name": "stdout",
          "text": [
            "Model: \"transformer\"\n",
            "__________________________________________________________________________________________________\n",
            " Layer (type)                Output Shape                 Param #   Connected to                  \n",
            "==================================================================================================\n",
            " encoder_inputs (InputLayer  [(None, None)]               0         []                            \n",
            " )                                                                                                \n",
            "                                                                                                  \n",
            " positional_embedding (Posi  (None, None, 256)            3845120   ['encoder_inputs[0][0]']      \n",
            " tionalEmbedding)                                                                                 \n",
            "                                                                                                  \n",
            " decoder_inputs (InputLayer  [(None, None)]               0         []                            \n",
            " )                                                                                                \n",
            "                                                                                                  \n",
            " transformer_encoder (Trans  (None, None, 256)            3155456   ['positional_embedding[0][0]']\n",
            " formerEncoder)                                                                                   \n",
            "                                                                                                  \n",
            " model_1 (Functional)        (None, None, 15000)          1295964   ['decoder_inputs[0][0]',      \n",
            "                                                          0          'transformer_encoder[0][0]'] \n",
            "                                                                                                  \n",
            "==================================================================================================\n",
            "Total params: 19960216 (76.14 MB)\n",
            "Trainable params: 19960216 (76.14 MB)\n",
            "Non-trainable params: 0 (0.00 Byte)\n",
            "__________________________________________________________________________________________________\n",
            "Epoch 1/40\n",
            "1302/1302 [==============================] - 107s 78ms/step - loss: 1.3085 - accuracy: 0.8088 - val_loss: 0.9882 - val_accuracy: 0.8460\n",
            "Epoch 2/40\n",
            " 265/1302 [=====>........................] - ETA: 1:07 - loss: 1.0224 - accuracy: 0.8421"
          ]
        }
      ],
      "source": [
        "%%time\n",
        "epochs = 40  # Esto debería ser al menos 30 para la convergencia.\n",
        "            # El entrenamiento con 30 epochs lleva aprox. 50 minutos\n",
        "\n",
        "transformer.summary()\n",
        "transformer.compile(\n",
        "    \"rmsprop\", loss=\"sparse_categorical_crossentropy\", metrics=[\"accuracy\"]\n",
        ")\n",
        "# CUIDADO AQUI ESTÁ COMENTADO PARA NO ENTRENAR DE NUEVO\n",
        "# Descometar la siguiente linea para Entrenar la Red\n",
        "transformer.fit(train_ds, epochs=epochs, validation_data=val_ds)"
      ]
    },
    {
      "cell_type": "code",
      "source": [
        "from google.colab import drive\n",
        "drive.mount('/content/gdrive')"
      ],
      "metadata": {
        "colab": {
          "base_uri": "https://localhost:8080/"
        },
        "id": "nb5MwkyrRYEe",
        "outputId": "83c1ceee-0fbb-4a6d-c87b-163adb8ffa7c"
      },
      "execution_count": 19,
      "outputs": [
        {
          "output_type": "stream",
          "name": "stdout",
          "text": [
            "Mounted at /content/gdrive\n"
          ]
        }
      ]
    },
    {
      "cell_type": "code",
      "source": [
        "# Camino y nombre del Traslator entrenado\n",
        "fileTraslator = 'gdrive/My Drive/Colab Notebooks/Curso NN/Traslator'"
      ],
      "metadata": {
        "id": "imNvaK2yRIED"
      },
      "execution_count": 20,
      "outputs": []
    },
    {
      "cell_type": "code",
      "source": [
        "\"\"\"\n",
        "Aquí guardamos el Transformer entrenado\n",
        "Si ya lo tenemos entrenado, entonces no hay que guardarlo, pues perderíamos todo\n",
        "\"\"\"\n",
        "transformer.save(fileTraslator)"
      ],
      "metadata": {
        "id": "arBi371fR7IE"
      },
      "execution_count": null,
      "outputs": []
    },
    {
      "cell_type": "code",
      "source": [
        "\"\"\"\n",
        "Aquí lo cargamos al Transformer\n",
        "\"\"\"\n",
        "# Cargar el modelo entrenado\n",
        "transformer = load_model(fileTraslator)"
      ],
      "metadata": {
        "id": "6CfBdARURTTh"
      },
      "execution_count": 21,
      "outputs": []
    },
    {
      "cell_type": "markdown",
      "metadata": {
        "id": "NPPHkKNb_u4S"
      },
      "source": [
        "## Decodificar oraciones de prueba\n",
        "\n",
        "Finalmente, demostremos cómo traducir oraciones nuevas en inglés.  \n",
        "\n",
        "Simplemente introducimos en el modelo la frase en inglés vectorizada, así como el token de destino `\"[start]\"`, luego generamos repetidamente el siguiente token, hasta que llegamos al token `\"[end]\"`."
      ]
    },
    {
      "cell_type": "code",
      "source": [
        "spa_vocab = spa_vectorization.get_vocabulary()\n",
        "spa_index_lookup = dict(zip(range(len(spa_vocab)), spa_vocab))\n",
        "max_decoded_sentence_length = 20\n",
        "\n",
        "def decode_sequence(input_sentence):\n",
        "    tokenized_input_sentence = eng_vectorization([input_sentence])\n",
        "    decoded_sentence = \"[start]\"\n",
        "    for i in range(max_decoded_sentence_length):\n",
        "        tokenized_target_sentence = spa_vectorization([decoded_sentence])[:, :-1]\n",
        "        predictions = transformer([tokenized_input_sentence, tokenized_target_sentence])\n",
        "\n",
        "        sampled_token_index = np.argmax(predictions[0, i, :])\n",
        "        sampled_token = spa_index_lookup[sampled_token_index]\n",
        "        decoded_sentence += \" \" + sampled_token\n",
        "\n",
        "        if sampled_token == \"[end]\":\n",
        "            break\n",
        "    return decoded_sentence"
      ],
      "metadata": {
        "id": "R-MISesYFRVN"
      },
      "execution_count": 22,
      "outputs": []
    },
    {
      "cell_type": "code",
      "source": [
        "test_eng_texts = [pair[0] for pair in test_pairs]\n",
        "for _ in range(30):\n",
        "    input_sentence = random.choice(test_eng_texts)\n",
        "    print('Inglés  : ', input_sentence)\n",
        "    translated = decode_sequence(input_sentence)\n",
        "    print('Español :', translated)"
      ],
      "metadata": {
        "colab": {
          "base_uri": "https://localhost:8080/"
        },
        "id": "v2hTTLGZWfc0",
        "outputId": "0cf72d42-eacc-453c-f8ca-d5c940ad4eae"
      },
      "execution_count": 23,
      "outputs": [
        {
          "output_type": "stream",
          "name": "stdout",
          "text": [
            "Inglés  :  He saw a pretty girl.\n",
            "Español : [start] los se [UNK] una ningún estudiando [end]\n",
            "Inglés  :  He plays soccer.\n",
            "Español : [start] los si traté [end]\n",
            "Inglés  :  Let's hope Tom didn't do what you think he did.\n",
            "Español : [start] [UNK] de tom lo que siempre bien voy [end]\n",
            "Inglés  :  Please come downstairs.\n",
            "Español : [start] yo [UNK] mi al tenemos [end]\n",
            "Inglés  :  The customer agrees.\n",
            "Español : [start] el carácter pelando [end]\n",
            "Inglés  :  I always rest for an hour after dinner.\n",
            "Español : [start] jugar viven por sabe hiciste de misma [end]\n",
            "Inglés  :  You have only to answer the first question.\n",
            "Español : [start] creo que del hace una sea [end]\n",
            "Inglés  :  I'll never forget the sound the crash made.\n",
            "Español : [start] por todos [UNK] que esa la tuve mi máquina [end]\n",
            "Inglés  :  I was foolish enough to believe him.\n",
            "Español : [start] si retrasó allí cuando al seguro [end]\n",
            "Inglés  :  Five times five is twenty-five.\n",
            "Español : [start] no son hablaba [UNK] [end]\n",
            "Inglés  :  I hope I can go to Australia one day.\n",
            "Español : [start] yo miedo puedo era en esta quedó [end]\n",
            "Inglés  :  She always has time in the afternoon.\n",
            "Español : [start] le hay estación tiempo en el libros [end]\n",
            "Inglés  :  Look, I know you're busy.\n",
            "Español : [start] haber sé lo padre [end]\n",
            "Inglés  :  I have no idea what you mean.\n",
            "Español : [start] fue una contigo en el hombres [end]\n",
            "Inglés  :  Write a short essay.\n",
            "Español : [start] la suelo de su cara padres [end]\n",
            "Inglés  :  This knife isn't very sharp.\n",
            "Español : [start] me tener me [UNK] al quedaré [end]\n",
            "Inglés  :  Most of the students here go to school on bike.\n",
            "Español : [start] el leche él siquiera todas de su [UNK] al demasiado [end]\n",
            "Inglés  :  What did I miss?\n",
            "Español : [start] qué muy me médico mi turno [end]\n",
            "Inglés  :  He kept his promise.\n",
            "Español : [start] los más la de Él cuando en cambiar [end]\n",
            "Inglés  :  I like the heat.\n",
            "Español : [start] me debes y das [end]\n",
            "Inglés  :  Tom was my closest friend.\n",
            "Español : [start] tom si con ganas dejará [end]\n",
            "Inglés  :  I'm learning English.\n",
            "Español : [start] no morir [end]\n",
            "Inglés  :  It's pretty cool.\n",
            "Español : [start] es la bella trata [end]\n",
            "Inglés  :  I'd be unhappy, but I wouldn't kill myself.\n",
            "Español : [start] trabajo hijos el tv mesa y niño me gusta [end]\n",
            "Inglés  :  You've never been to Paris, have you?\n",
            "Español : [start] horas nunca en lo más hijo que creo [end]\n",
            "Inglés  :  Tom put the envelope on the table.\n",
            "Español : [start] tom al ciudad en la prefiero [end]\n",
            "Inglés  :  Mary likes to party.\n",
            "Español : [start] va es blanco para [UNK] [end]\n",
            "Inglés  :  Do you like living here?\n",
            "Español : [start] te gusta 10 [end]\n",
            "Inglés  :  I ran around the field.\n",
            "Español : [start] me mucho estas al [UNK] [end]\n",
            "Inglés  :  Just a minute.\n",
            "Español : [start] gustaría tiene un película [end]\n"
          ]
        }
      ]
    },
    {
      "cell_type": "markdown",
      "metadata": {
        "id": "SLKpQg5h_u4T"
      },
      "source": [
        "Después de 30 épocas, obtenemos resultados como:\n",
        "\n",
        "> She handed him the money.\n",
        "> [start] ella le pasó el dinero [end]\n",
        "\n",
        "> Tom has never heard Mary sing.\n",
        "> [start] tom nunca ha oído cantar a mary [end]\n",
        "\n",
        "> Perhaps she will come tomorrow.\n",
        "> [start] tal vez ella vendrá mañana [end]\n",
        "\n",
        "> I love to write.\n",
        "> [start] me encanta escribir [end]\n",
        "\n",
        "> His French is improving little by little.\n",
        "> [start] su francés va a [UNK] sólo un poco [end]\n",
        "\n",
        "> My hotel told me to call you.\n",
        "> [start] mi hotel me dijo que te [UNK] [end]"
      ]
    },
    {
      "cell_type": "code",
      "source": [
        "input_sentence = \"Hello, thank you for to be in these lessons.\"\n",
        "translated_sentence = decode_sequence(input_sentence)\n",
        "print(\"Frase traducida:\", translated_sentence)"
      ],
      "metadata": {
        "colab": {
          "base_uri": "https://localhost:8080/"
        },
        "id": "ocQ0Cl_yHOMb",
        "outputId": "b55e3c3d-df9b-40c7-dd69-6ee31b3b5d5c"
      },
      "execution_count": 24,
      "outputs": [
        {
          "output_type": "stream",
          "name": "stdout",
          "text": [
            "Frase traducida: [start] a y levantó en que te común año a la levantó [end]\n"
          ]
        }
      ]
    }
  ],
  "metadata": {
    "accelerator": "GPU",
    "colab": {
      "provenance": []
    },
    "kernelspec": {
      "display_name": "Python 3",
      "language": "python",
      "name": "python3"
    },
    "language_info": {
      "codemirror_mode": {
        "name": "ipython",
        "version": 3
      },
      "file_extension": ".py",
      "mimetype": "text/x-python",
      "name": "python",
      "nbconvert_exporter": "python",
      "pygments_lexer": "ipython3",
      "version": "3.7.0"
    }
  },
  "nbformat": 4,
  "nbformat_minor": 0
}